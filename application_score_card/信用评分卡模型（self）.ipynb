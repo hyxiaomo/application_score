{
 "cells": [
  {
   "cell_type": "code",
   "execution_count": 2,
   "metadata": {},
   "outputs": [],
   "source": [
    "import pandas as pd\n",
    "import numpy as np\n",
    "import matplotlib.pyplot as plt\n",
    "import seaborn as sns"
   ]
  },
  {
   "cell_type": "markdown",
   "metadata": {},
   "source": [
    "### 1、导入数据"
   ]
  },
  {
   "cell_type": "markdown",
   "metadata": {},
   "source": [
    "数据说明\n",
    "\n",
    "·SeriousDlqin2yrs：违约客户及超过90天逾期客户，bool型；  \n",
    "·RevolvingUtilizationOfUnsecuredLines：贷款以及信用卡可用额度与总额度比例，百分比；  \n",
    "·age：用户年龄，整型  \n",
    "·NumberOfTime30-59DaysPastDueNotWorse：35-59天逾期但不糟糕次数，整型；  \n",
    "·DebtRatio：负债率，百分比；  \n",
    "·MonthlyIncome：月收入，整型；  \n",
    "·NumberOfOpenCreditLinesAndLoans：开放式信贷和贷款数量，开放式贷款（分期付款如汽车贷款或抵押贷款）和信贷（如信用卡）的数量，整型；  \n",
    "·NumberOfTimes90DaysLate：90天逾期次数：借款者有90天或更高逾期的次数，整型；  \n",
    "·NumberRealEstateLoansOrLines：不动产贷款或额度数量：抵押贷款和不动产放款包括房屋净值信贷额度，整型；  \n",
    "·NumberOfTime60-89DaysPastDueNotWorse：60-89天逾期但不糟糕次数：借款人在在过去两年内有60-89天逾期还款但不糟糕的次数，整型；  \n",
    "·NumberOfDependents：家属数量：不包括本人在内的家属数量，整型；"
   ]
  },
  {
   "cell_type": "code",
   "execution_count": 3,
   "metadata": {},
   "outputs": [],
   "source": [
    "data_train = pd.read_csv('./data/cs-training.csv')\n",
    "\n",
    "#变量重命名\n",
    "columns = ({'SeriousDlqin2yrs':'target',\n",
    "            'RevolvingUtilizationOfUnsecuredLines':'percentage',\n",
    "            'NumberOfTime30-59DaysPastDueNotWorse':'30-59',\n",
    "           'NumberOfOpenCreditLinesAndLoans':'open_loan',\n",
    "           'NumberOfTimes90DaysLate':'90-',\n",
    "           'NumberRealEstateLoansOrLines':'estate_loan',\n",
    "           'NumberOfTime60-89DaysPastDueNotWorse':'60-89',\n",
    "           'NumberOfDependents':'Dependents'\n",
    "           }\n",
    "          )\n",
    "data_train.rename(columns=columns,inplace = True)"
   ]
  },
  {
   "cell_type": "code",
   "execution_count": 4,
   "metadata": {},
   "outputs": [
    {
     "data": {
      "text/html": [
       "<div>\n",
       "<style scoped>\n",
       "    .dataframe tbody tr th:only-of-type {\n",
       "        vertical-align: middle;\n",
       "    }\n",
       "\n",
       "    .dataframe tbody tr th {\n",
       "        vertical-align: top;\n",
       "    }\n",
       "\n",
       "    .dataframe thead th {\n",
       "        text-align: right;\n",
       "    }\n",
       "</style>\n",
       "<table border=\"1\" class=\"dataframe\">\n",
       "  <thead>\n",
       "    <tr style=\"text-align: right;\">\n",
       "      <th></th>\n",
       "      <th>Unnamed: 0</th>\n",
       "      <th>target</th>\n",
       "      <th>percentage</th>\n",
       "      <th>age</th>\n",
       "      <th>30-59</th>\n",
       "      <th>DebtRatio</th>\n",
       "      <th>MonthlyIncome</th>\n",
       "      <th>open_loan</th>\n",
       "      <th>90-</th>\n",
       "      <th>estate_loan</th>\n",
       "      <th>60-89</th>\n",
       "      <th>Dependents</th>\n",
       "    </tr>\n",
       "  </thead>\n",
       "  <tbody>\n",
       "    <tr>\n",
       "      <th>0</th>\n",
       "      <td>1</td>\n",
       "      <td>1</td>\n",
       "      <td>0.766127</td>\n",
       "      <td>45</td>\n",
       "      <td>2</td>\n",
       "      <td>0.802982</td>\n",
       "      <td>9120.0</td>\n",
       "      <td>13</td>\n",
       "      <td>0</td>\n",
       "      <td>6</td>\n",
       "      <td>0</td>\n",
       "      <td>2.0</td>\n",
       "    </tr>\n",
       "    <tr>\n",
       "      <th>1</th>\n",
       "      <td>2</td>\n",
       "      <td>0</td>\n",
       "      <td>0.957151</td>\n",
       "      <td>40</td>\n",
       "      <td>0</td>\n",
       "      <td>0.121876</td>\n",
       "      <td>2600.0</td>\n",
       "      <td>4</td>\n",
       "      <td>0</td>\n",
       "      <td>0</td>\n",
       "      <td>0</td>\n",
       "      <td>1.0</td>\n",
       "    </tr>\n",
       "    <tr>\n",
       "      <th>2</th>\n",
       "      <td>3</td>\n",
       "      <td>0</td>\n",
       "      <td>0.658180</td>\n",
       "      <td>38</td>\n",
       "      <td>1</td>\n",
       "      <td>0.085113</td>\n",
       "      <td>3042.0</td>\n",
       "      <td>2</td>\n",
       "      <td>1</td>\n",
       "      <td>0</td>\n",
       "      <td>0</td>\n",
       "      <td>0.0</td>\n",
       "    </tr>\n",
       "    <tr>\n",
       "      <th>3</th>\n",
       "      <td>4</td>\n",
       "      <td>0</td>\n",
       "      <td>0.233810</td>\n",
       "      <td>30</td>\n",
       "      <td>0</td>\n",
       "      <td>0.036050</td>\n",
       "      <td>3300.0</td>\n",
       "      <td>5</td>\n",
       "      <td>0</td>\n",
       "      <td>0</td>\n",
       "      <td>0</td>\n",
       "      <td>0.0</td>\n",
       "    </tr>\n",
       "    <tr>\n",
       "      <th>4</th>\n",
       "      <td>5</td>\n",
       "      <td>0</td>\n",
       "      <td>0.907239</td>\n",
       "      <td>49</td>\n",
       "      <td>1</td>\n",
       "      <td>0.024926</td>\n",
       "      <td>63588.0</td>\n",
       "      <td>7</td>\n",
       "      <td>0</td>\n",
       "      <td>1</td>\n",
       "      <td>0</td>\n",
       "      <td>0.0</td>\n",
       "    </tr>\n",
       "  </tbody>\n",
       "</table>\n",
       "</div>"
      ],
      "text/plain": [
       "   Unnamed: 0  target  percentage  age  30-59  DebtRatio  MonthlyIncome  \\\n",
       "0           1       1    0.766127   45      2   0.802982         9120.0   \n",
       "1           2       0    0.957151   40      0   0.121876         2600.0   \n",
       "2           3       0    0.658180   38      1   0.085113         3042.0   \n",
       "3           4       0    0.233810   30      0   0.036050         3300.0   \n",
       "4           5       0    0.907239   49      1   0.024926        63588.0   \n",
       "\n",
       "   open_loan  90-  estate_loan  60-89  Dependents  \n",
       "0         13    0            6      0         2.0  \n",
       "1          4    0            0      0         1.0  \n",
       "2          2    1            0      0         0.0  \n",
       "3          5    0            0      0         0.0  \n",
       "4          7    0            1      0         0.0  "
      ]
     },
     "execution_count": 4,
     "metadata": {},
     "output_type": "execute_result"
    }
   ],
   "source": [
    "data_train.head()"
   ]
  },
  {
   "cell_type": "code",
   "execution_count": 5,
   "metadata": {},
   "outputs": [],
   "source": [
    "#删除id列\n",
    "data_train.drop('Unnamed: 0',axis = 1 ,inplace = True)"
   ]
  },
  {
   "cell_type": "markdown",
   "metadata": {},
   "source": [
    "#### 查看缺失值缺失值情况"
   ]
  },
  {
   "cell_type": "code",
   "execution_count": 6,
   "metadata": {
    "scrolled": true
   },
   "outputs": [
    {
     "data": {
      "text/html": [
       "<div>\n",
       "<style scoped>\n",
       "    .dataframe tbody tr th:only-of-type {\n",
       "        vertical-align: middle;\n",
       "    }\n",
       "\n",
       "    .dataframe tbody tr th {\n",
       "        vertical-align: top;\n",
       "    }\n",
       "\n",
       "    .dataframe thead th {\n",
       "        text-align: right;\n",
       "    }\n",
       "</style>\n",
       "<table border=\"1\" class=\"dataframe\">\n",
       "  <thead>\n",
       "    <tr style=\"text-align: right;\">\n",
       "      <th></th>\n",
       "      <th>index</th>\n",
       "      <th>0</th>\n",
       "    </tr>\n",
       "  </thead>\n",
       "  <tbody>\n",
       "    <tr>\n",
       "      <th>0</th>\n",
       "      <td>target</td>\n",
       "      <td>0</td>\n",
       "    </tr>\n",
       "    <tr>\n",
       "      <th>1</th>\n",
       "      <td>percentage</td>\n",
       "      <td>0</td>\n",
       "    </tr>\n",
       "    <tr>\n",
       "      <th>2</th>\n",
       "      <td>age</td>\n",
       "      <td>0</td>\n",
       "    </tr>\n",
       "    <tr>\n",
       "      <th>3</th>\n",
       "      <td>30-59</td>\n",
       "      <td>0</td>\n",
       "    </tr>\n",
       "    <tr>\n",
       "      <th>4</th>\n",
       "      <td>DebtRatio</td>\n",
       "      <td>0</td>\n",
       "    </tr>\n",
       "    <tr>\n",
       "      <th>5</th>\n",
       "      <td>MonthlyIncome</td>\n",
       "      <td>29731</td>\n",
       "    </tr>\n",
       "    <tr>\n",
       "      <th>6</th>\n",
       "      <td>open_loan</td>\n",
       "      <td>0</td>\n",
       "    </tr>\n",
       "    <tr>\n",
       "      <th>7</th>\n",
       "      <td>90-</td>\n",
       "      <td>0</td>\n",
       "    </tr>\n",
       "    <tr>\n",
       "      <th>8</th>\n",
       "      <td>estate_loan</td>\n",
       "      <td>0</td>\n",
       "    </tr>\n",
       "    <tr>\n",
       "      <th>9</th>\n",
       "      <td>60-89</td>\n",
       "      <td>0</td>\n",
       "    </tr>\n",
       "    <tr>\n",
       "      <th>10</th>\n",
       "      <td>Dependents</td>\n",
       "      <td>3924</td>\n",
       "    </tr>\n",
       "  </tbody>\n",
       "</table>\n",
       "</div>"
      ],
      "text/plain": [
       "            index      0\n",
       "0          target      0\n",
       "1      percentage      0\n",
       "2             age      0\n",
       "3           30-59      0\n",
       "4       DebtRatio      0\n",
       "5   MonthlyIncome  29731\n",
       "6       open_loan      0\n",
       "7             90-      0\n",
       "8     estate_loan      0\n",
       "9           60-89      0\n",
       "10     Dependents   3924"
      ]
     },
     "execution_count": 6,
     "metadata": {},
     "output_type": "execute_result"
    }
   ],
   "source": [
    "miss_df = data_train.isnull().sum(axis=0).reset_index()\n",
    "miss_df"
   ]
  },
  {
   "cell_type": "markdown",
   "metadata": {},
   "source": [
    "可以看到MonthlyIncome和Dependents存在缺失值，下面针对这两个变量查看其缺失值所占比例"
   ]
  },
  {
   "cell_type": "code",
   "execution_count": 7,
   "metadata": {},
   "outputs": [
    {
     "name": "stdout",
     "output_type": "stream",
     "text": [
      "0.19820666666666667\n",
      "0.02616\n"
     ]
    }
   ],
   "source": [
    "print(data_train['MonthlyIncome'].isnull().sum(axis=0)/data_train.shape[0])\n",
    "print(data_train['Dependents'].isnull().sum(axis=0)/data_train.shape[0])"
   ]
  },
  {
   "cell_type": "markdown",
   "metadata": {},
   "source": [
    "### 2、缺失值处理"
   ]
  },
  {
   "cell_type": "markdown",
   "metadata": {},
   "source": [
    "对于缺失值处理，有很多种方法：\n",
    "\n",
    "    缺失值极多：若缺失值样本占总数比例极高，直接舍弃，因为作为特征加入反而会引入噪声值（可以使用删除近零常量的方法删除）。\n",
    "    非连续特征缺失值适中：如果缺值的样本适中，而该属性非连续值特征属性，就把NaN作为一个新类别，加入到类别特征中。\n",
    "    连续特征缺失值适中：如果缺值的样本适中，考虑给定一个step，然后离散化，将NaN作为一个type加入到属性类目中。\n",
    "    缺失值较少：考虑利用填充的办法进行处理。其中有均值、众数、中位数填充。\n",
    "            用sklearn里的RandomForest/KNN模型去拟合数据样本训练模型，然后去填充缺失值。\n",
    "            拉格朗日插值法。"
   ]
  },
  {
   "cell_type": "markdown",
   "metadata": {},
   "source": [
    "由于MonthlyIncome的确实比例较大，这里采用随机森林模型去填充缺失值。\n",
    "\n",
    "    具体做法如下，根据data_train中MonthlyIncome是否缺失，将整个数据集划分为训练集和测试集，其中MonthlyIncome未标签（y），MonthlyIncome缺失的部分作为测试数据集，将MonthlyIncome不缺失的data_train数据作为训练数据集，并利用训练数据集训练模型，之后利用模型预测对测试集进行预测。\n",
    "    \n",
    "Dependents变量缺失值比较少，直接删除，对总体模型不会造成太大影响。"
   ]
  },
  {
   "cell_type": "code",
   "execution_count": 8,
   "metadata": {
    "scrolled": true
   },
   "outputs": [
    {
     "name": "stderr",
     "output_type": "stream",
     "text": [
      "D:\\anaconda\\lib\\site-packages\\ipykernel_launcher.py:7: FutureWarning: Method .as_matrix will be removed in a future version. Use .values instead.\n",
      "  import sys\n",
      "D:\\anaconda\\lib\\site-packages\\ipykernel_launcher.py:8: FutureWarning: Method .as_matrix will be removed in a future version. Use .values instead.\n",
      "  \n"
     ]
    }
   ],
   "source": [
    "from sklearn.ensemble import RandomForestRegressor\n",
    "\n",
    "def rfr_fillna(df):\n",
    "    #注意，此处不能将Dependents数据也作为训练数据，因为该特征存在缺失值\n",
    "    miss_data = df.iloc[:,[5,0,1,2,3,4,6,7,8,9]]  #注意此处iloc和loc的区别，loc根据index来索引，而iloc是根据行号或列号来索引\n",
    "    #根据MonthlyIncome是否缺失，将数据集划分为已知特征（训练集），和未知特征（测试集）\n",
    "    know = miss_data[miss_data['MonthlyIncome'].notnull()].as_matrix()\n",
    "    unknow = miss_data[miss_data['MonthlyIncome'].isnull()].as_matrix()\n",
    "    #x,自变量（要训练的特征）\n",
    "    x = know[:,1:]\n",
    "    #y,因变量\n",
    "    y = know[:,0]\n",
    "    #n_estimators决策树个数，max_depth最大深度，n_jobs：并行job个数，1=不并行；n：n个并行；-1：CPU有多少core，就启动多少job\n",
    "    rf_model = RandomForestRegressor(random_state=0,n_estimators=200,max_depth=3,n_jobs=-1)\n",
    "    rf_model.fit(x,y)\n",
    "    #预测缺失值\n",
    "    pre_value = rf_model.predict(unknow[:,1:]).round(0)\n",
    "    #填充缺失值\n",
    "    df.loc[df['MonthlyIncome'].isnull(),'MonthlyIncome'] = pre_value\n",
    "    return df\n",
    "\n",
    "data_train = rfr_fillna(data_train)"
   ]
  },
  {
   "cell_type": "code",
   "execution_count": 9,
   "metadata": {},
   "outputs": [
    {
     "data": {
      "text/plain": [
       "<bound method DataFrame.info of         target  percentage  age  30-59    DebtRatio  MonthlyIncome  open_loan  \\\n",
       "0            1    0.766127   45      2     0.802982         9120.0         13   \n",
       "1            0    0.957151   40      0     0.121876         2600.0          4   \n",
       "2            0    0.658180   38      1     0.085113         3042.0          2   \n",
       "3            0    0.233810   30      0     0.036050         3300.0          5   \n",
       "4            0    0.907239   49      1     0.024926        63588.0          7   \n",
       "5            0    0.213179   74      0     0.375607         3500.0          3   \n",
       "6            0    0.305682   57      0  5710.000000         8311.0          8   \n",
       "7            0    0.754464   39      0     0.209940         3500.0          8   \n",
       "9            0    0.189169   57      0     0.606291        23684.0          9   \n",
       "10           0    0.644226   30      0     0.309476         2500.0          5   \n",
       "11           0    0.018798   51      0     0.531529         6501.0          7   \n",
       "12           0    0.010352   46      0     0.298354        12454.0         13   \n",
       "13           1    0.964673   40      3     0.382965        13700.0          9   \n",
       "14           0    0.019657   76      0   477.000000            0.0          6   \n",
       "15           0    0.548458   64      0     0.209892        11362.0          7   \n",
       "16           0    0.061086   78      0  2058.000000         8311.0         10   \n",
       "17           0    0.166284   53      0     0.188274         8800.0          7   \n",
       "18           0    0.221813   43      0     0.527888         3280.0          7   \n",
       "19           0    0.602794   25      0     0.065868          333.0          2   \n",
       "20           0    0.200923   43      0     0.430046        12300.0         10   \n",
       "21           1    0.025656   38      0     0.475841         3000.0          7   \n",
       "22           0    1.000000   39      0     0.241104         2500.0          4   \n",
       "23           0    0.075427   32      0     0.085512         7916.0          6   \n",
       "24           0    0.046560   58      0     0.241622         2416.0          9   \n",
       "25           1    0.392248   50      0     1.595253         4676.0         14   \n",
       "26           0    0.052436   58      0     0.097672         8333.0         22   \n",
       "27           0    0.034421   69      0     0.042383         2500.0         17   \n",
       "28           0    0.452516   24      0     0.011761         3400.0          1   \n",
       "29           0    0.392995   58      2     0.436103         5500.0         15   \n",
       "30           0    0.704074   28      1     0.155201         4200.0          8   \n",
       "...        ...         ...  ...    ...          ...            ...        ...   \n",
       "149969       0    0.075535   43      0     0.197538        14700.0         10   \n",
       "149970       0    0.025449   58      0     0.253855        15500.0          7   \n",
       "149971       0    0.058001   83      0     0.013997         5000.0          6   \n",
       "149972       0    0.071273   42      0     0.008638         6945.0          3   \n",
       "149973       0    1.026395   44      0     0.494819         5500.0          7   \n",
       "149974       0    0.962721   61      2     0.603479         5000.0         11   \n",
       "149975       0    0.022088   58      0  2716.000000         8311.0          8   \n",
       "149976       0    0.000627   76      0    60.000000         1159.0          5   \n",
       "149977       0    0.236450   29      0   349.000000         1159.0          3   \n",
       "149978       0    0.917635   52      2     0.259496         2500.0          4   \n",
       "149979       1    0.224711   55      0     0.057235         8700.0          7   \n",
       "149980       0    0.067644   64      0     0.254976         5525.0         12   \n",
       "149981       0    0.810012   43      0     0.121752         6849.0          4   \n",
       "149982       0    0.021046   37      0     0.250272         2760.0          8   \n",
       "149983       0    0.002485   82      0     0.000800         5000.0          5   \n",
       "149984       0    0.037548   84      0    25.000000         1159.0          5   \n",
       "149985       0    0.954409   26      0     0.324962         1950.0          4   \n",
       "149986       0    0.168102   49      0     0.080384         5000.0         16   \n",
       "149987       0    1.000000   28      0     0.055692         3249.0          3   \n",
       "149988       0    0.902051   31      1     0.347924         7515.0         10   \n",
       "149989       0    0.013356   62      0     0.001408         9233.0          4   \n",
       "149990       0    0.055518   46      0     0.609779         4335.0          7   \n",
       "149991       0    0.104112   59      0     0.477658        10316.0         10   \n",
       "149992       0    0.871976   50      0  4132.000000         2554.0         11   \n",
       "149994       0    0.385742   50      0     0.404293         3400.0          7   \n",
       "149995       0    0.040674   74      0     0.225131         2100.0          4   \n",
       "149996       0    0.299745   44      0     0.716562         5584.0          4   \n",
       "149997       0    0.246044   58      0  3870.000000         2554.0         18   \n",
       "149998       0    0.000000   30      0     0.000000         5716.0          4   \n",
       "149999       0    0.850283   64      0     0.249908         8158.0          8   \n",
       "\n",
       "        90-  estate_loan  60-89  Dependents  \n",
       "0         0            6      0         2.0  \n",
       "1         0            0      0         1.0  \n",
       "2         1            0      0         0.0  \n",
       "3         0            0      0         0.0  \n",
       "4         0            1      0         0.0  \n",
       "5         0            1      0         1.0  \n",
       "6         0            3      0         0.0  \n",
       "7         0            0      0         0.0  \n",
       "9         0            4      0         2.0  \n",
       "10        0            0      0         0.0  \n",
       "11        0            2      0         2.0  \n",
       "12        0            2      0         2.0  \n",
       "13        3            1      1         2.0  \n",
       "14        0            1      0         0.0  \n",
       "15        0            1      0         2.0  \n",
       "16        0            2      0         0.0  \n",
       "17        0            0      0         0.0  \n",
       "18        0            1      0         2.0  \n",
       "19        0            0      0         0.0  \n",
       "20        0            2      0         0.0  \n",
       "21        0            1      0         2.0  \n",
       "22        0            0      0         0.0  \n",
       "23        0            0      0         0.0  \n",
       "24        0            1      0         0.0  \n",
       "25        0            3      0         1.0  \n",
       "26        0            1      0         0.0  \n",
       "27        0            0      0         1.0  \n",
       "28        0            0      0         0.0  \n",
       "29        0            1      0         0.0  \n",
       "30        0            0      0         0.0  \n",
       "...     ...          ...    ...         ...  \n",
       "149969    0            3      0         2.0  \n",
       "149970    0            2      0         2.0  \n",
       "149971    0            0      0         0.0  \n",
       "149972    0            0      0         1.0  \n",
       "149973    0            1      0         1.0  \n",
       "149974    0            1      0         0.0  \n",
       "149975    0            2      0         0.0  \n",
       "149976    0            0      0         0.0  \n",
       "149977    0            0      0         0.0  \n",
       "149978    0            0      0         0.0  \n",
       "149979    0            0      0         0.0  \n",
       "149980    0            1      0         0.0  \n",
       "149981    0            0      0         4.0  \n",
       "149982    0            0      0         3.0  \n",
       "149983    0            0      0         0.0  \n",
       "149984    0            0      0         0.0  \n",
       "149985    0            0      0         0.0  \n",
       "149986    0            0      0         1.0  \n",
       "149987    1            0      0         0.0  \n",
       "149988    0            1      0         0.0  \n",
       "149989    0            0      0         3.0  \n",
       "149990    0            1      0         2.0  \n",
       "149991    0            2      0         0.0  \n",
       "149992    0            1      0         3.0  \n",
       "149994    0            0      0         0.0  \n",
       "149995    0            1      0         0.0  \n",
       "149996    0            1      0         2.0  \n",
       "149997    0            1      0         0.0  \n",
       "149998    0            0      0         0.0  \n",
       "149999    0            2      0         0.0  \n",
       "\n",
       "[145563 rows x 11 columns]>"
      ]
     },
     "execution_count": 9,
     "metadata": {},
     "output_type": "execute_result"
    }
   ],
   "source": [
    "#Dependents变量缺失值比较少，直接删除，对总体模型不会造成太大影响。对缺失值处理完之后，删除重复项\n",
    "data_train = data_train.dropna()\n",
    "data_train = data_train.drop_duplicates()\n",
    "data_train.info"
   ]
  },
  {
   "cell_type": "markdown",
   "metadata": {},
   "source": [
    "### 3、离群值处理"
   ]
  },
  {
   "cell_type": "markdown",
   "metadata": {},
   "source": [
    "离群值是指明显偏离大多数抽样数据的数值，比如个人客户的年龄大于100或小于0时，通常认为该值为异常值。找出样本总体中的异常值，通常采用离群值检测的方法。 离群值检测的方法有单变量离群值检测、局部离群值因子检测、基于聚类方法的离群值检测等方法。在本数据集中，采用单变量离群值检测来判断异常值，采用箱线图。\n",
    "\n",
    "1、对于percentage和DebtRatio中大于1的数据直接删除（百分比）\n",
    "\n",
    "2、通过箱型图发现30-59、60-89、90-，这三个特征均有离群值，查看离群值的数量发现，三个特征离群值数量相等，且都不多，直接删除离群值；\n",
    "\n",
    "3、月收入也同样使用箱型图进行离群值判断\n",
    "\n",
    "（注意，此处都是借助箱型图进行主观判断，其实应该借助四分位距进行判断才比较合理）"
   ]
  },
  {
   "cell_type": "code",
   "execution_count": 10,
   "metadata": {},
   "outputs": [
    {
     "data": {
      "text/html": [
       "<div>\n",
       "<style scoped>\n",
       "    .dataframe tbody tr th:only-of-type {\n",
       "        vertical-align: middle;\n",
       "    }\n",
       "\n",
       "    .dataframe tbody tr th {\n",
       "        vertical-align: top;\n",
       "    }\n",
       "\n",
       "    .dataframe thead th {\n",
       "        text-align: right;\n",
       "    }\n",
       "</style>\n",
       "<table border=\"1\" class=\"dataframe\">\n",
       "  <thead>\n",
       "    <tr style=\"text-align: right;\">\n",
       "      <th></th>\n",
       "      <th>target</th>\n",
       "      <th>percentage</th>\n",
       "      <th>age</th>\n",
       "      <th>30-59</th>\n",
       "      <th>DebtRatio</th>\n",
       "      <th>MonthlyIncome</th>\n",
       "      <th>open_loan</th>\n",
       "      <th>90-</th>\n",
       "      <th>estate_loan</th>\n",
       "      <th>60-89</th>\n",
       "      <th>Dependents</th>\n",
       "    </tr>\n",
       "  </thead>\n",
       "  <tbody>\n",
       "    <tr>\n",
       "      <th>count</th>\n",
       "      <td>145563.000000</td>\n",
       "      <td>145563.000000</td>\n",
       "      <td>145563.000000</td>\n",
       "      <td>145563.000000</td>\n",
       "      <td>145563.000000</td>\n",
       "      <td>1.455630e+05</td>\n",
       "      <td>145563.000000</td>\n",
       "      <td>145563.000000</td>\n",
       "      <td>145563.000000</td>\n",
       "      <td>145563.000000</td>\n",
       "      <td>145563.000000</td>\n",
       "    </tr>\n",
       "    <tr>\n",
       "      <th>mean</th>\n",
       "      <td>0.067538</td>\n",
       "      <td>5.941378</td>\n",
       "      <td>52.110701</td>\n",
       "      <td>0.389185</td>\n",
       "      <td>334.548251</td>\n",
       "      <td>6.116310e+03</td>\n",
       "      <td>8.553788</td>\n",
       "      <td>0.231309</td>\n",
       "      <td>1.033346</td>\n",
       "      <td>0.205622</td>\n",
       "      <td>0.759863</td>\n",
       "    </tr>\n",
       "    <tr>\n",
       "      <th>std</th>\n",
       "      <td>0.250952</td>\n",
       "      <td>250.510835</td>\n",
       "      <td>14.567652</td>\n",
       "      <td>3.756944</td>\n",
       "      <td>1947.228209</td>\n",
       "      <td>1.318221e+04</td>\n",
       "      <td>5.141132</td>\n",
       "      <td>3.728803</td>\n",
       "      <td>1.133115</td>\n",
       "      <td>3.712455</td>\n",
       "      <td>1.116141</td>\n",
       "    </tr>\n",
       "    <tr>\n",
       "      <th>min</th>\n",
       "      <td>0.000000</td>\n",
       "      <td>0.000000</td>\n",
       "      <td>0.000000</td>\n",
       "      <td>0.000000</td>\n",
       "      <td>0.000000</td>\n",
       "      <td>0.000000e+00</td>\n",
       "      <td>0.000000</td>\n",
       "      <td>0.000000</td>\n",
       "      <td>0.000000</td>\n",
       "      <td>0.000000</td>\n",
       "      <td>0.000000</td>\n",
       "    </tr>\n",
       "    <tr>\n",
       "      <th>25%</th>\n",
       "      <td>0.000000</td>\n",
       "      <td>0.031218</td>\n",
       "      <td>41.000000</td>\n",
       "      <td>0.000000</td>\n",
       "      <td>0.173934</td>\n",
       "      <td>2.554000e+03</td>\n",
       "      <td>5.000000</td>\n",
       "      <td>0.000000</td>\n",
       "      <td>0.000000</td>\n",
       "      <td>0.000000</td>\n",
       "      <td>0.000000</td>\n",
       "    </tr>\n",
       "    <tr>\n",
       "      <th>50%</th>\n",
       "      <td>0.000000</td>\n",
       "      <td>0.158817</td>\n",
       "      <td>52.000000</td>\n",
       "      <td>0.000000</td>\n",
       "      <td>0.359090</td>\n",
       "      <td>5.000000e+03</td>\n",
       "      <td>8.000000</td>\n",
       "      <td>0.000000</td>\n",
       "      <td>1.000000</td>\n",
       "      <td>0.000000</td>\n",
       "      <td>0.000000</td>\n",
       "    </tr>\n",
       "    <tr>\n",
       "      <th>75%</th>\n",
       "      <td>0.000000</td>\n",
       "      <td>0.561085</td>\n",
       "      <td>62.000000</td>\n",
       "      <td>0.000000</td>\n",
       "      <td>0.770641</td>\n",
       "      <td>8.166000e+03</td>\n",
       "      <td>11.000000</td>\n",
       "      <td>0.000000</td>\n",
       "      <td>2.000000</td>\n",
       "      <td>0.000000</td>\n",
       "      <td>1.000000</td>\n",
       "    </tr>\n",
       "    <tr>\n",
       "      <th>max</th>\n",
       "      <td>1.000000</td>\n",
       "      <td>50708.000000</td>\n",
       "      <td>107.000000</td>\n",
       "      <td>98.000000</td>\n",
       "      <td>329664.000000</td>\n",
       "      <td>3.008750e+06</td>\n",
       "      <td>58.000000</td>\n",
       "      <td>98.000000</td>\n",
       "      <td>54.000000</td>\n",
       "      <td>98.000000</td>\n",
       "      <td>20.000000</td>\n",
       "    </tr>\n",
       "  </tbody>\n",
       "</table>\n",
       "</div>"
      ],
      "text/plain": [
       "              target     percentage            age          30-59  \\\n",
       "count  145563.000000  145563.000000  145563.000000  145563.000000   \n",
       "mean        0.067538       5.941378      52.110701       0.389185   \n",
       "std         0.250952     250.510835      14.567652       3.756944   \n",
       "min         0.000000       0.000000       0.000000       0.000000   \n",
       "25%         0.000000       0.031218      41.000000       0.000000   \n",
       "50%         0.000000       0.158817      52.000000       0.000000   \n",
       "75%         0.000000       0.561085      62.000000       0.000000   \n",
       "max         1.000000   50708.000000     107.000000      98.000000   \n",
       "\n",
       "           DebtRatio  MonthlyIncome      open_loan            90-  \\\n",
       "count  145563.000000   1.455630e+05  145563.000000  145563.000000   \n",
       "mean      334.548251   6.116310e+03       8.553788       0.231309   \n",
       "std      1947.228209   1.318221e+04       5.141132       3.728803   \n",
       "min         0.000000   0.000000e+00       0.000000       0.000000   \n",
       "25%         0.173934   2.554000e+03       5.000000       0.000000   \n",
       "50%         0.359090   5.000000e+03       8.000000       0.000000   \n",
       "75%         0.770641   8.166000e+03      11.000000       0.000000   \n",
       "max    329664.000000   3.008750e+06      58.000000      98.000000   \n",
       "\n",
       "         estate_loan          60-89     Dependents  \n",
       "count  145563.000000  145563.000000  145563.000000  \n",
       "mean        1.033346       0.205622       0.759863  \n",
       "std         1.133115       3.712455       1.116141  \n",
       "min         0.000000       0.000000       0.000000  \n",
       "25%         0.000000       0.000000       0.000000  \n",
       "50%         1.000000       0.000000       0.000000  \n",
       "75%         2.000000       0.000000       1.000000  \n",
       "max        54.000000      98.000000      20.000000  "
      ]
     },
     "execution_count": 10,
     "metadata": {},
     "output_type": "execute_result"
    }
   ],
   "source": [
    "data_train.describe()"
   ]
  },
  {
   "cell_type": "code",
   "execution_count": 11,
   "metadata": {},
   "outputs": [],
   "source": [
    "#对于percentage和DebtRatio中大于1的数据直接删除（百分比）\n",
    "data_train = data_train[(data_train['DebtRatio'] < 1) & (data_train['percentage'] < 1)]"
   ]
  },
  {
   "cell_type": "code",
   "execution_count": 12,
   "metadata": {},
   "outputs": [
    {
     "data": {
      "image/png": "[encoded data removed]",
      "text/plain": [
       "<Figure size 432x288 with 1 Axes>"
      ]
     },
     "metadata": {},
     "output_type": "display_data"
    }
   ],
   "source": [
    "#查看\n",
    "fig = plt.figure()\n",
    "ax = fig.add_subplot(1,1,1)\n",
    "ax.boxplot([data_train['30-59'],data_train['60-89'],data_train['90-']])\n",
    "ax.set_xticklabels(['30-59','60-89','90-'])\n",
    "plt.show()"
   ]
  },
  {
   "cell_type": "code",
   "execution_count": 13,
   "metadata": {},
   "outputs": [
    {
     "data": {
      "text/plain": [
       "(185, 11)"
      ]
     },
     "execution_count": 13,
     "metadata": {},
     "output_type": "execute_result"
    }
   ],
   "source": [
    "data_train[data_train['30-59'] > 60].shape\n",
    "data_train[data_train['60-89'] > 90].shape\n",
    "data_train[data_train['90-'] > 90].shape"
   ]
  },
  {
   "cell_type": "code",
   "execution_count": 14,
   "metadata": {},
   "outputs": [],
   "source": [
    "data_train = data_train[data_train['30-59'] < 60]\n",
    "data_train = data_train[data_train['60-89'] < 90]\n",
    "data_train = data_train[data_train['90-'] < 90]\n",
    "data_train.reset_index(drop=True,inplace=True) #重设索引"
   ]
  },
  {
   "cell_type": "code",
   "execution_count": 15,
   "metadata": {},
   "outputs": [
    {
     "data": {
      "image/png": "[encoded data removed]",
      "text/plain": [
       "<Figure size 432x288 with 1 Axes>"
      ]
     },
     "metadata": {},
     "output_type": "display_data"
    }
   ],
   "source": [
    "sns.boxplot(data_train.MonthlyIncome,palette = 'Set3',orient = 'v')\n",
    "plt.show()\n",
    "data_train[data_train['MonthlyIncome'] > 50000].shape\n",
    "data_train = data_train[data_train['MonthlyIncome'] < 50000]\n",
    "data_train = data_train.reset_index(drop=True)#重设索引"
   ]
  },
  {
   "cell_type": "markdown",
   "metadata": {},
   "source": [
    "### 4、数据探索"
   ]
  },
  {
   "cell_type": "markdown",
   "metadata": {},
   "source": [
    "在建立模型之前，我们一般会对现有的数据进行 探索性数据分析（Exploratory Data Analysis） 。 EDA是指对已有的数据(特别是调查或观察得来的原始数据)在尽量少的先验假定下进行探索。常用的探索性数据分析方法有：直方图、散点图和箱线图等。\n",
    "\n",
    "单变量部分：\n",
    "\n",
    "1、好坏顾客比例分布不平衡，坏顾客占比较低，因此考虑后期采用smote算法进行过采样处理；\n",
    "\n",
    "2、客户年龄分布和月收入分布，都大致呈正态分布，符合统计分析的假设。"
   ]
  },
  {
   "cell_type": "code",
   "execution_count": 16,
   "metadata": {},
   "outputs": [
    {
     "data": {
      "image/png": "[encoded data removed]",
      "text/plain": [
       "<Figure size 432x288 with 1 Axes>"
      ]
     },
     "metadata": {},
     "output_type": "display_data"
    }
   ],
   "source": [
    "#首先计算好坏顾客比例\n",
    "data_train.target.value_counts().plot(kind='bar')\n",
    "plt.show()\n",
    "t = data_train.target.value_counts()[1]/len(data_train)"
   ]
  },
  {
   "cell_type": "markdown",
   "metadata": {},
   "source": [
    "可以看到坏顾客对应类别的样本比例较少，因此后面将考虑采用smote算法进行上采样"
   ]
  },
  {
   "cell_type": "code",
   "execution_count": 17,
   "metadata": {},
   "outputs": [
    {
     "name": "stderr",
     "output_type": "stream",
     "text": [
      "D:\\anaconda\\lib\\site-packages\\scipy\\stats\\stats.py:1713: FutureWarning: Using a non-tuple sequence for multidimensional indexing is deprecated; use `arr[tuple(seq)]` instead of `arr[seq]`. In the future this will be interpreted as an array index, `arr[np.array(seq)]`, which will result either in an error or a different result.\n",
      "  return np.add.reduce(sorted[indexer] * weights, axis=axis) / sumval\n",
      "D:\\anaconda\\lib\\site-packages\\matplotlib\\axes\\_axes.py:6462: UserWarning: The 'normed' kwarg is deprecated, and has been replaced by the 'density' kwarg.\n",
      "  warnings.warn(\"The 'normed' kwarg is deprecated, and has been \"\n"
     ]
    },
    {
     "data": {
      "image/png": "[encoded data removed]",
      "text/plain": [
       "<Figure size 432x288 with 1 Axes>"
      ]
     },
     "metadata": {},
     "output_type": "display_data"
    }
   ],
   "source": [
    "sns.distplot(data_train.age)  #基本符合正态分布\n",
    "plt.show()"
   ]
  },
  {
   "cell_type": "code",
   "execution_count": 18,
   "metadata": {},
   "outputs": [
    {
     "name": "stderr",
     "output_type": "stream",
     "text": [
      "D:\\anaconda\\lib\\site-packages\\scipy\\stats\\stats.py:1713: FutureWarning: Using a non-tuple sequence for multidimensional indexing is deprecated; use `arr[tuple(seq)]` instead of `arr[seq]`. In the future this will be interpreted as an array index, `arr[np.array(seq)]`, which will result either in an error or a different result.\n",
      "  return np.add.reduce(sorted[indexer] * weights, axis=axis) / sumval\n",
      "D:\\anaconda\\lib\\site-packages\\matplotlib\\axes\\_axes.py:6462: UserWarning: The 'normed' kwarg is deprecated, and has been replaced by the 'density' kwarg.\n",
      "  warnings.warn(\"The 'normed' kwarg is deprecated, and has been \"\n"
     ]
    },
    {
     "data": {
      "image/png": "[encoded data removed]",
      "text/plain": [
       "<Figure size 432x288 with 1 Axes>"
      ]
     },
     "metadata": {},
     "output_type": "display_data"
    }
   ],
   "source": [
    "sns.distplot(data_train.MonthlyIncome)\n",
    "plt.show()"
   ]
  },
  {
   "cell_type": "markdown",
   "metadata": {},
   "source": [
    "多变量处理，查看变量之间的相关性，判断是否存在多重共线性；\n",
    "\n",
    "通过变量间相关系数绘制的热力图可以看出，虽然变量之间存在一定的相关性，但是其相关系数都不大，因此不存在多重共线性。"
   ]
  },
  {
   "cell_type": "code",
   "execution_count": 19,
   "metadata": {},
   "outputs": [
    {
     "data": {
      "image/png": "[encoded data removed]",
      "text/plain": [
       "<Figure size 864x648 with 2 Axes>"
      ]
     },
     "metadata": {},
     "output_type": "display_data"
    }
   ],
   "source": [
    "corr = data_train.corr()\n",
    "fig = plt.figure(figsize=[12,9])\n",
    "ax = fig.add_subplot(1,1,1)\n",
    "sns.heatmap(corr,annot=True, cmap='YlGnBu', ax=ax, annot_kws={'size': 9, 'color': 'm'})#绘制相关性系数热力图\n",
    "plt.show()"
   ]
  },
  {
   "cell_type": "markdown",
   "metadata": {},
   "source": [
    "### 5、特征选择（woe）"
   ]
  },
  {
   "cell_type": "markdown",
   "metadata": {},
   "source": [
    "我们采用信用评分模型的变量选择方法，通过WOE分析方法，即是通过比较指标分箱和对应分箱的违约概率来确定指标是否符合经济意义。\n",
    "\n",
    "首先我们对变量进行离散化（分箱）处理。"
   ]
  },
  {
   "cell_type": "markdown",
   "metadata": {},
   "source": [
    "    变量分箱（binning）是对连续变量离散化（discretization）的一种称呼。信用评分卡开发中一般有常用的等距分段、等深分段、最优分段。其中等距分组（Equval length intervals）是指分组的区间是一致的，比如年龄以十年作为一个分组；等深分组（Equal frequency intervals）是先确定分组数量，然后令每个分组中数据数量大致相等；最优分组（Optimal Binning）又叫监督离散化（supervised discretizaion），使用递归划分（Recursive Partitioning）将连续变量分为分组，背后是一种基于条件推断查找较佳分组的算法。\n",
    "    \n",
    "    WoE分析， 是对指标分箱、计算各个档位的WoE值并观察WoE值随指标变化的趋势。其中WoE的数学定义是:\n",
    "    woe=ln(goodattribute/badattribute)\n",
    "    在进行分析时，我们需要对各指标从小到大排列，并计算出相应分档的WoE值。其中正向指标越大，WoE值越小；反向指标越大，WoE值越大。正向指标的WoE值负斜率越大，反响指标的正斜率越大，则说明指标区分能力好。WoE值趋近于直线，则意味指标判断能力较弱。若正向指标和WoE正相关趋势、反向指标同WoE出现负相关趋势，则说明此指标不符合经济意义，则应当予以去除。\n",
    "\n",
    "我们首先选择对连续变量进行最优分段，在连续变量的分布不满足最优分段的要求时，再考虑对连续变量进行等距分段。最优分箱的代码如下："
   ]
  },
  {
   "cell_type": "code",
   "execution_count": 20,
   "metadata": {},
   "outputs": [],
   "source": [
    "from scipy import stats\n",
    "#如果n不为空则表示使用最优分组，如果n为None,且bin_不为None,则表示使用等距分组，此时要给出分组区间\n",
    "def mono_bin(Y,X,n=None,bin_x=None):\n",
    "    r = 0\n",
    "    total_bad = Y.sum()\n",
    "    total_good = Y.count() - Y.sum()\n",
    "    if n: \n",
    "        while np.abs(r) < 1:\n",
    "            d1 = pd.DataFrame({'Y':Y,'X':X,'Bucket':pd.qcut(X,n,duplicates='raise')}) #返回一个数据框，共三列，X,Y,所属分组区间\n",
    "            d2 = d1.groupby('Bucket',as_index=True)   #as_index=True则聚合后（如添加.mean()）将Bucket列作为索引，为False则新生成索引\n",
    "            r,p = stats.spearmanr(d2.mean().X,d2.mean().Y) #计算各区间X的均值与Y的均值的相关系数和对应的p值(注意返回的r和p都是一个数），如果r的绝对值大于或等于1，则循环结束\n",
    "            n = n - 1\n",
    "    else:\n",
    "        d1 = pd.DataFrame({'Y':Y,'X':X,'Bucket':pd.cut(X,bin_x)}) #返回一个数据框，共三列，X,Y,所属分组区间\n",
    "        d2 = d1.groupby('Bucket',as_index=True)   #as_index=True则聚合后（如添加.mean()）将Bucket列作为索引，为False则新生成索引\n",
    "        r,p = stats.spearmanr(d2.mean().X,d2.mean().Y)\n",
    "    d3 = pd.DataFrame(d2.min().X,columns=['min_' + X.name]) #注意这里d3只是个空的数据框，没有数据\n",
    "    d3['min_' + X.name] = d2.min().X\n",
    "    d3['max_' + X.name] = d2.max().X\n",
    "    d3[Y.name] = d2.sum().Y\n",
    "    d3['total'] =  d2.count().Y\n",
    "    d3['bad_rate'] = d3[Y.name]/total_bad  #各组坏顾客占所有坏顾客的比例\n",
    "    d3['good_rate'] = (d3['total'] - d3[Y.name])/total_good   #各组好顾客占所有好顾客的比例\n",
    "    d3['woe'] = np.log(d3['good_rate'] / d3['bad_rate'])   #计算woe值\n",
    "    iv = ((d3['good_rate'] - d3['bad_rate'])*d3['woe']).sum()  #根据woe值计算iv值\n",
    "    d4 = (d3.sort_values(by='min_' + X.name)).reset_index(drop=True)   #根据最小值进行排序\n",
    "    if n:\n",
    "        #获取分组区间\n",
    "        cut = []\n",
    "        cut.append(float('-inf'))   #float(-inf)表示负无穷\n",
    "        for i in range(1,n+1): #注意如果实际分为了3组,则n的实际值为2\n",
    "            qua = X.quantile(i/(n+1))\n",
    "            cut.append(round(qua,4))\n",
    "        cut.append(float('inf'))  #正无穷\n",
    "        woe = list(round(d4['woe'],2))\n",
    "        return d4,iv,cut,woe       \n",
    "    else:\n",
    "        woe = list(round(d4['woe'],2))\n",
    "        return d4,iv,woe"
   ]
  },
  {
   "cell_type": "code",
   "execution_count": 21,
   "metadata": {},
   "outputs": [],
   "source": [
    "#注意x1表示第一个自变量\n",
    "df_x1,iv_x1,cut_x1,woe_x1 = mono_bin(data_train['target'],data_train['percentage'],n=10)\n",
    "df_x2,iv_x2,cut_x2,woe_x2 = mono_bin(data_train['target'],data_train['age'],n=10)\n",
    "#df_x4,iv_x4,cut_x4,woe_x4 = mono_bin(data_train['target'],data_train['DebtRatio'],n=10)\n",
    "df_x5,iv_x5,cut_x5,woe_x5 = mono_bin(data_train['target'],data_train['MonthlyIncome'],n=10)"
   ]
  },
  {
   "cell_type": "code",
   "execution_count": 22,
   "metadata": {
    "scrolled": true
   },
   "outputs": [
    {
     "data": {
      "image/png": "[encoded data removed]",
      "text/plain": [
       "<Figure size 432x288 with 1 Axes>"
      ]
     },
     "metadata": {},
     "output_type": "display_data"
    },
    {
     "data": {
      "image/png": "[encoded data removed]",
      "text/plain": [
       "<Figure size 432x288 with 1 Axes>"
      ]
     },
     "metadata": {},
     "output_type": "display_data"
    },
    {
     "data": {
      "image/png": "[encoded data removed]",
      "text/plain": [
       "<Figure size 432x288 with 1 Axes>"
      ]
     },
     "metadata": {},
     "output_type": "display_data"
    }
   ],
   "source": [
    "#根据柱状图查看分箱效果，分箱后，越单调效果越好\n",
    "plt.bar(range(len(woe_x1)),woe_x1)\n",
    "plt.show()\n",
    "\n",
    "plt.bar(range(len(woe_x2)),woe_x2)#完全单调，分箱效果不错\n",
    "plt.show()\n",
    "\n",
    "plt.bar(range(len(woe_x5)),woe_x5)\n",
    "plt.show()"
   ]
  },
  {
   "cell_type": "code",
   "execution_count": 23,
   "metadata": {},
   "outputs": [],
   "source": [
    "#其余变量离散化\n",
    "pinf = float('inf')  #正无穷\n",
    "ninf = float('-inf') #负无穷\n",
    "cut_x3 = [ninf, 0, 1, 3, 5, pinf]\n",
    "cut_x4 = [ninf,0,0.1,0.35,pinf]\n",
    "cut_x6 = [ninf, 1, 2, 3, 5, pinf]\n",
    "cut_x7 = [ninf, 0, 1, 3, 5, pinf]\n",
    "cut_x8 = [ninf, 0,1,2, 3, pinf]\n",
    "cut_x9 = [ninf, 0, 1, 3, pinf]\n",
    "cut_x10 = [ninf, 0, 1, 2, 3, 5, pinf]\n",
    "\n",
    "df_x3,iv_x3,woe_x3 = mono_bin(data_train['target'],data_train['30-59'],bin_x=cut_x3)\n",
    "df_x4,iv_x4,woe_x4 = mono_bin(data_train['target'],data_train['DebtRatio'],bin_x=cut_x4)\n",
    "df_x6,iv_x6,woe_x6 = mono_bin(data_train['target'],data_train['open_loan'],bin_x=cut_x6)\n",
    "df_x7,iv_x7,woe_x7 = mono_bin(data_train['target'],data_train['90-'],bin_x=cut_x7)\n",
    "df_x8,iv_x8,woe_x8 = mono_bin(data_train['target'],data_train['estate_loan'],bin_x=cut_x8)\n",
    "df_x9,iv_x9,woe_x9 = mono_bin(data_train['target'],data_train['60-89'],bin_x=cut_x9)\n",
    "df_x10,iv_x10,woe_x10 = mono_bin(data_train['target'],data_train['Dependents'],bin_x=cut_x10)"
   ]
  },
  {
   "cell_type": "code",
   "execution_count": 24,
   "metadata": {
    "scrolled": true
   },
   "outputs": [
    {
     "data": {
      "image/png": "[encoded data removed]",
      "text/plain": [
       "<Figure size 864x576 with 1 Axes>"
      ]
     },
     "metadata": {},
     "output_type": "display_data"
    }
   ],
   "source": [
    "#绘制根据各变量的iv值绘制柱状图\n",
    "y = [iv_x1,iv_x2,iv_x3,iv_x4,iv_x5,iv_x6,iv_x7,iv_x8,iv_x9,iv_x10]\n",
    "index = data_train.columns.drop('target')\n",
    "fig = plt.figure(figsize=[12,8])\n",
    "ax = fig.add_subplot(1,1,1)\n",
    "ax.bar(range(1,11),y,width=0.4,color = 'r',alpha = 0.6)\n",
    "ax.set_xticks(range(1,11))\n",
    "ax.set_xticklabels(index, fontdict={'fontsize':12,'rotation':0 })\n",
    "ax.set_ylabel('IV',fontdict={'fontsize':14})\n",
    "#在每个柱状图上添加数值标签\n",
    "for i,v in enumerate(y):\n",
    "    plt.text(i+1, v+0.01, '%.4f' %v, ha='center', va='bottom', fontsize = 12)\n",
    "plt.show()"
   ]
  },
  {
   "cell_type": "markdown",
   "metadata": {},
   "source": [
    "对IV值的理解：\n",
    "\n",
    "    从直观逻辑上大体可以这样理解“用IV去衡量变量预测能力”这件事情：我们假设在一个分类问题中，目标变量的类别有两类：Y1，Y2。对于一个待预测的个体A，要判断A属于Y1还是Y2，我们是需要一定的信息的，假设这个信息总量是I，而这些所需要的信息，就蕴含在所有的自变量C1，C2，C3，……，Cn中，那么，对于其中的一个变量Ci来说，其蕴含的信息越多，那么它对于判断A属于Y1还是Y2的贡献就越大，Ci的信息价值就越大，Ci的IV就越大，它就越应该进入到入模变量列表中。\n",
    "\n",
    "根据IV值判断变量预测能力的标准:  \n",
    "\n",
    "    < 0.02： useless for predition  \n",
    "    0.02-0.1： weak predictor  \n",
    "    0.1-0.3： medium predictor  \n",
    "    0.3-0.5： strong predictor  \n",
    "    大于0.5： suspicious or too good to be true  \n",
    "\n",
    "删除掉iv小于0.1的变量，DebtRatio,MonthlyIncome,open_loan,estate_loan,Dependents"
   ]
  },
  {
   "cell_type": "code",
   "execution_count": 25,
   "metadata": {},
   "outputs": [],
   "source": [
    "#将data_train中的每个变量的每个值根据其所属的分组，转换为该组对应的woe值\n",
    "def change_woe(d,cut,woe):\n",
    "    list_ = []\n",
    "    i = 0\n",
    "    while i < len(d):\n",
    "        value = d[i]\n",
    "        j = len(cut) - 2\n",
    "        m = len(cut) - 2\n",
    "        while j > 0:\n",
    "            if value >= cut[j]:\n",
    "                j = -1\n",
    "            else:\n",
    "                j -= 1\n",
    "                m -= 1\n",
    "        list_.append(woe[m])\n",
    "        i += 1\n",
    "    return list_"
   ]
  },
  {
   "cell_type": "code",
   "execution_count": 26,
   "metadata": {},
   "outputs": [],
   "source": [
    "data_train['percentage'] = pd.Series(change_woe(data_train['percentage'],cut_x1,woe_x1))\n",
    "data_train['age'] = pd.Series(change_woe(data_train['age'], cut_x2, woe_x2))\n",
    "data_train['30-59'] = pd.Series(change_woe(data_train['30-59'], cut_x3, woe_x3))\n",
    "data_train['DebtRatio'] = pd.Series(change_woe(data_train['DebtRatio'], cut_x4, woe_x4))\n",
    "data_train['MonthlyIncome'] = pd.Series(change_woe(data_train['MonthlyIncome'], cut_x5, woe_x5))\n",
    "data_train['open_loan'] = pd.Series(change_woe(data_train['open_loan'], cut_x6, woe_x6))\n",
    "data_train['90-'] = pd.Series(change_woe(data_train['90-'], cut_x7, woe_x7))\n",
    "data_train['estate_loan'] = pd.Series(change_woe(data_train['estate_loan'], cut_x8, woe_x8))\n",
    "data_train['60-89'] = pd.Series(change_woe(data_train['60-89'], cut_x9, woe_x9))\n",
    "data_train['Dependents'] = pd.Series(change_woe(data_train['Dependents'], cut_x10, woe_x10))"
   ]
  },
  {
   "cell_type": "code",
   "execution_count": 27,
   "metadata": {},
   "outputs": [],
   "source": [
    "#删除iv值较小的变量\n",
    "train_data_x = data_train.drop(columns=['DebtRatio','MonthlyIncome','open_loan','estate_loan','Dependents'],axis = 1)"
   ]
  },
  {
   "cell_type": "markdown",
   "metadata": {},
   "source": [
    "### 6、模型建立"
   ]
  },
  {
   "cell_type": "markdown",
   "metadata": {},
   "source": [
    "借助sklearn库建立logistic模型"
   ]
  },
  {
   "cell_type": "code",
   "execution_count": 28,
   "metadata": {},
   "outputs": [],
   "source": [
    "from sklearn.linear_model import LogisticRegression\n",
    "from sklearn.model_selection import train_test_split\n",
    "\n",
    "x = train_data_x.drop(columns=['target'],axis = 1)\n",
    "y = train_data_x['target']"
   ]
  },
  {
   "cell_type": "code",
   "execution_count": 29,
   "metadata": {},
   "outputs": [],
   "source": [
    "#由于数据正负样本比例不平衡，所以此处对数据集进行smote过采样\n",
    "from imblearn.over_sampling import SMOTE\n",
    "\n",
    "#默认生成正负样本比例为1：1，可通过radio参数指定对应类别要生成的数据的数量smo = SMOTE(ratio={1: 300 },random_state=42)\n",
    "smo = SMOTE(random_state=42) \n",
    "x_smo, y_smo = smo.fit_sample(x, y)"
   ]
  },
  {
   "cell_type": "code",
   "execution_count": 30,
   "metadata": {},
   "outputs": [
    {
     "name": "stderr",
     "output_type": "stream",
     "text": [
      "D:\\anaconda\\lib\\site-packages\\sklearn\\linear_model\\logistic.py:432: FutureWarning: Default solver will be changed to 'lbfgs' in 0.22. Specify a solver to silence this warning.\n",
      "  FutureWarning)\n"
     ]
    },
    {
     "data": {
      "text/plain": [
       "LogisticRegression(C=1.0, class_weight=None, dual=False, fit_intercept=True,\n",
       "                   intercept_scaling=1, l1_ratio=None, max_iter=100,\n",
       "                   multi_class='warn', n_jobs=None, penalty='l1',\n",
       "                   random_state=None, solver='warn', tol=0.0001, verbose=0,\n",
       "                   warm_start=False)"
      ]
     },
     "execution_count": 30,
     "metadata": {},
     "output_type": "execute_result"
    }
   ],
   "source": [
    "#划分数据集\n",
    "train_x,test_x,train_y,test_y = train_test_split(x_smo,y_smo,test_size = 0.3, random_state = 0)\n",
    "lr = LogisticRegression(penalty='l1')\n",
    "lr.fit(train_x,train_y)"
   ]
  },
  {
   "cell_type": "code",
   "execution_count": 31,
   "metadata": {},
   "outputs": [
    {
     "data": {
      "image/png": "[encoded data removed]",
      "text/plain": [
       "<Figure size 432x288 with 1 Axes>"
      ]
     },
     "metadata": {},
     "output_type": "display_data"
    }
   ],
   "source": [
    "#绘制roc和AUC曲线\n",
    "from sklearn.metrics import roc_curve,auc\n",
    "\n",
    "##lr.predict_proba(train_x)返回两列数据，第一列为target属于0的概率，第二列为target属于1的概率，这里获取target属于1的概率\n",
    "train_predprob = lr.predict_proba(train_x)[:,1] \n",
    "test_predprob = lr.predict_proba(test_x)[:,1]\n",
    "#TPR = TP / (TP+FN)表示当前分到正样本中真实的正样本所占所有正样本的比例，也就是召回率；\n",
    "#FPR = FP / (FP + TN)表示当前被错误分到正样本类别中真实的负样本所占所有负样本总数的比例；\n",
    "FPR,TPR,threshold = roc_curve(test_y,test_predprob)\n",
    "ROC_AUC = auc(FPR,TPR)\n",
    "plt.plot(FPR,TPR,'b',label='AUC = %0.2f' % ROC_AUC)\n",
    "plt.legend(loc = 'lower right')\n",
    "plt.plot([0,1],[0,1],'-')\n",
    "plt.xlim([0,1])\n",
    "plt.ylim([0,1])\n",
    "plt.xlabel('FPR')\n",
    "plt.ylabel('TPR')\n",
    "plt.show()"
   ]
  },
  {
   "cell_type": "markdown",
   "metadata": {},
   "source": [
    "### 7、信用评分"
   ]
  },
  {
   "cell_type": "markdown",
   "metadata": {},
   "source": [
    "一个事件发生的概率为odds,如果一个客户违约的概率为p，则：odds=p/(1-p)  \n",
    "此时客户违约的概率p可以表示成：p=odds / (1+odds)  \n",
    "评分表达式可以表示成：scores=A + B * log(odds)  \n",
    "其中A、B为常数，由于log函数在(0→+∞)单调递增，所以当用户违约几率Odds越大时，Score评分越低。  \n",
    "通过给定：  \n",
    "    （1）某特定Odds时的Score值S0；   \n",
    "    （2）该特定Odds值翻倍时Score增加值PD0;   \n",
    "通过给定值S0与PD0带入评分卡表达式，可求得A、B。   \n",
    "    通过以上分析，求该用户评分Score的问题则转化为求用户违约对数几率log(Odds)= a0 + b1*x1 + b2*x2 + ... + bn*xn 的问题。 （具体过程可以参考这篇文章https://blog.csdn.net/htbeker/article/details/79697557 ) \n",
    "    \n",
    "    scores = A - B * (a0 + b1*x1 + b2*x2 + ... + b5*x5) ;  x = woe ，a0为常数项，b为系数  \n",
    "         = (A - B * a0) + B*b1*woe_x1 + ... \n",
    "         = 基础得分 + 各变量得分  \n",
    "在建立标准评分卡之前，我们需要选取几个评分卡参数：基础分值（不是上述公式中的基础的分）、 PDO（比率翻倍的分值）和好坏比。 这里， 我们取600分为基础分值，PDO为20 （每高20分好坏比翻一倍），好坏比取20。"
   ]
  },
  {
   "cell_type": "code",
   "execution_count": 32,
   "metadata": {},
   "outputs": [],
   "source": [
    "import math\n",
    "\n",
    "B = 20 / math.log(2)\n",
    "A = 600 - B / math.log(20)\n",
    "base_score = round(A + B * lr.intercept_[0],0)\n",
    "\n",
    "def compute_score(coe,woe_list,B):\n",
    "    '''\n",
    "    计算变量中各个分组对应的分数。\n",
    "    注意：之前对各变量的数据进行了woe值变换，比如对于变量percentage，其数据已经变换成woe值，其woe值主要有4个唯一值，对应4个组（woe_x1 = [1.18, 1.05, 0.25, -1.03]），\n",
    "        因此，只需要计算出这4个分组的分数，再根据其所属分组进行匹配响应的分数即可，变量percentage分数为：x1_percentage=[-22.0, -20.0, -5.0, 19.0]\n",
    "    '''\n",
    "    score_list=[]\n",
    "    for woe in woe_list:\n",
    "        score = round(B * coe * woe , 0)\n",
    "        score_list.append(score)\n",
    "    return score_list\n",
    "\n",
    "#各变量woe值对应的分数\n",
    "x1_percentage = compute_score(lr.coef_[0][0], woe_x1, B)\n",
    "x2_age = compute_score(lr.coef_[0][1], woe_x2, B)\n",
    "x4_59 = compute_score(lr.coef_[0][2], woe_x4, B)\n",
    "x7_90 = compute_score(lr.coef_[0][3], woe_x7, B)\n",
    "x9_60 = compute_score(lr.coef_[0][4], woe_x9, B)"
   ]
  },
  {
   "cell_type": "code",
   "execution_count": 33,
   "metadata": {},
   "outputs": [
    {
     "name": "stderr",
     "output_type": "stream",
     "text": [
      "D:\\anaconda\\lib\\site-packages\\matplotlib\\axes\\_axes.py:6462: UserWarning: The 'normed' kwarg is deprecated, and has been replaced by the 'density' kwarg.\n",
      "  warnings.warn(\"The 'normed' kwarg is deprecated, and has been \"\n",
      "D:\\anaconda\\lib\\site-packages\\scipy\\stats\\stats.py:1713: FutureWarning: Using a non-tuple sequence for multidimensional indexing is deprecated; use `arr[tuple(seq)]` instead of `arr[seq]`. In the future this will be interpreted as an array index, `arr[np.array(seq)]`, which will result either in an error or a different result.\n",
      "  return np.add.reduce(sorted[indexer] * weights, axis=axis) / sumval\n"
     ]
    },
    {
     "data": {
      "image/png": "[encoded data removed]",
      "text/plain": [
       "<Figure size 432x288 with 1 Axes>"
      ]
     },
     "metadata": {},
     "output_type": "display_data"
    },
    {
     "data": {
      "text/plain": [
       "<Figure size 1008x504 with 0 Axes>"
      ]
     },
     "metadata": {},
     "output_type": "display_data"
    }
   ],
   "source": [
    "def change_score(series,cut,score):\n",
    "    '''\n",
    "    与woe转换同理，只是下面17行处的woe换成了score\n",
    "    '''\n",
    "    list_ = []\n",
    "    i = 0\n",
    "    while i < len(series):\n",
    "        value = series[i]\n",
    "        j = len(cut) - 2\n",
    "        m = len(cut) - 2\n",
    "        while j >= 0:\n",
    "            if value >= cut[j]:\n",
    "                j = -1\n",
    "            else:\n",
    "                j -= 1\n",
    "                m -= 1\n",
    "        list_.append(score[m])\n",
    "        i += 1\n",
    "    return list_\n",
    "\n",
    "#导入test数据\n",
    "test1 = pd.read_csv( './data/cs-test.csv')\n",
    "test2 = pd.DataFrame()\n",
    "test1.rename(columns=columns,inplace = True)\n",
    "#此处直接用训练集训练好的各变量的分组，匹配各组对应的分数即可(如：cut_x1=[-inf, 0.0321, 0.1609, 0.5313, inf],分组里面的数据仍是原始data_train数据)\n",
    "test2['x1_percentage'] = pd.Series(change_score(test1['percentage'], cut_x1, x1_percentage))\n",
    "test2['x2_age'] = pd.Series(change_score(test1['age'], cut_x2, x2_age))\n",
    "test2['x4_59'] = pd.Series(change_score(test1['DebtRatio'], cut_x4,x4_59))\n",
    "test2['x7_90'] = pd.Series(change_score(test1['90-'], cut_x7, x7_90))\n",
    "test2['x9_60'] = pd.Series(change_score(test1['60-89'], cut_x9, x9_60))\n",
    "#分数加总\n",
    "test2['scores'] =base_score + test2['x1_percentage'] + test2['x2_age'] + test2['x4_59']+test2['x7_90']+test2['x9_60']\n",
    "#查看评分分布\n",
    "sns.distplot(test2['scores'],bins = 30,color = 'r')\n",
    "plt.figure(figsize=(14,7))\n",
    "plt.show()"
   ]
  },
  {
   "cell_type": "code",
   "execution_count": null,
   "metadata": {},
   "outputs": [],
   "source": []
  }
 ],
 "metadata": {
  "kernelspec": {
   "display_name": "Python 3",
   "language": "python",
   "name": "python3"
  },
  "language_info": {
   "codemirror_mode": {
    "name": "ipython",
    "version": 3
   },
   "file_extension": ".py",
   "mimetype": "text/x-python",
   "name": "python",
   "nbconvert_exporter": "python",
   "pygments_lexer": "ipython3",
   "version": "3.6.5"
  }
 },
 "nbformat": 4,
 "nbformat_minor": 2
}
